{
 "cells": [
  {
   "attachments": {},
   "cell_type": "markdown",
   "metadata": {},
   "source": [
    "Pour générer une autorité de certification auto-signée (CA) et un certificat signé par cette autorité pour le domaine \"jdidier.dev\", vous pouvez suivre les étapes suivantes :\n",
    "\n",
    "- Créez une clé privée pour votre autorité de certification (CA) :"
   ]
  },
  {
   "cell_type": "code",
   "execution_count": null,
   "metadata": {
    "vscode": {
     "languageId": "powershell"
    }
   },
   "outputs": [],
   "source": [
    "openssl genrsa -out ca.key 4096"
   ]
  },
  {
   "attachments": {},
   "cell_type": "markdown",
   "metadata": {},
   "source": [
    "Cette commande crée une clé privée RSA de 4096 bits et la sauvegarde dans le fichier ca.key.\n",
    "\n",
    "- Créez une autorité de certification auto-signée (CA) en utilisant la clé privée précédemment générée :"
   ]
  },
  {
   "cell_type": "code",
   "execution_count": null,
   "metadata": {
    "vscode": {
     "languageId": "powershell"
    }
   },
   "outputs": [],
   "source": [
    "openssl req -new -x509 -days 3650 -key ca.key -out ca.crt"
   ]
  },
  {
   "attachments": {},
   "cell_type": "markdown",
   "metadata": {},
   "source": [
    "Cette commande demande à OpenSSL de créer une autorité de certification auto-signée (CA) qui expire dans 3650 jours, en utilisant la clé privée ca.key. Lorsque vous exécutez cette commande, vous serez invité à remplir des informations sur votre CA, telles que le nom de votre organisation et votre adresse e-mail.\n",
    "\n",
    "- Créez une clé privée pour votre certificat de domaine :"
   ]
  },
  {
   "cell_type": "code",
   "execution_count": null,
   "metadata": {
    "vscode": {
     "languageId": "powershell"
    }
   },
   "outputs": [],
   "source": [
    "openssl genrsa -out jdidier.dev.key 2048"
   ]
  },
  {
   "attachments": {},
   "cell_type": "markdown",
   "metadata": {},
   "source": [
    "Cette commande crée une clé privée RSA de 2048 bits et la sauvegarde dans le fichier jdidier.dev.key.\n",
    "\n",
    "- Créez une demande de signature de certificat (CSR) pour votre certificat de domaine :"
   ]
  },
  {
   "cell_type": "code",
   "execution_count": null,
   "metadata": {
    "vscode": {
     "languageId": "powershell"
    }
   },
   "outputs": [],
   "source": [
    "openssl req -new -key jdidier.dev.key -out jdidier.dev.csr"
   ]
  },
  {
   "attachments": {},
   "cell_type": "markdown",
   "metadata": {},
   "source": [
    "openssl req -new -key jdidier.dev.key -out jdidier.dev.csr\n",
    "Cette commande demande à OpenSSL de créer une demande de signature de certificat (CSR) pour le domaine \"jdidier.dev\" en utilisant la clé privée jdidier.dev.key. Lorsque vous exécutez cette commande, vous serez invité à remplir des informations sur votre domaine, telles que le nom de votre organisation et votre adresse e-mail.\n",
    "\n",
    "- Signez votre demande de signature de certificat (CSR) avec votre autorité de certification auto-signée (CA) :"
   ]
  },
  {
   "attachments": {},
   "cell_type": "markdown",
   "metadata": {},
   "source": [
    "dans un fichier ext mettre :"
   ]
  },
  {
   "cell_type": "code",
   "execution_count": null,
   "metadata": {
    "vscode": {
     "languageId": "powershell"
    }
   },
   "outputs": [],
   "source": [
    "authorityKeyIdentifier=keyid,issuer\n",
    "basicConstraints=CA:FALSE\n",
    "keyUsage = digitalSignature, nonRepudiation, keyEncipherment, dataEncipherment\n",
    "subjectAltName = @alt_names\n",
    "[alt_names]\n",
    "DNS.1 = esx1.linuxtricks.lan"
   ]
  },
  {
   "cell_type": "code",
   "execution_count": null,
   "metadata": {
    "vscode": {
     "languageId": "powershell"
    }
   },
   "outputs": [],
   "source": [
    "openssl x509 -req -in esx1.linuxtricks.lan.csr -CA linuxtricksCA.pem -CAkey linuxtricksCA.key -CAcreateserial -out esx1.linuxtricks.lan.crt -days 10000 -sha256 -extfile esx1.linuxtricks.lan.ext"
   ]
  }
 ],
 "metadata": {
  "language_info": {
   "name": "python"
  },
  "orig_nbformat": 4
 },
 "nbformat": 4,
 "nbformat_minor": 2
}
