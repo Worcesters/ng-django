{
 "cells": [
  {
   "attachments": {},
   "cell_type": "markdown",
   "metadata": {},
   "source": [
    "#### Commandes de monitoring\n",
    "Les commandes suivantes sont, à mes yeux, les premières que vous avez besoin de connaître quand vous utilisez Docker.\n",
    "\n",
    "*docker ps (-a)*\n",
    "\n",
    "    docker ps vous affiche toutes les instances de docker qui tournent actuellement sur votre environnement. Si vous ajoutez l’option -a, alors vous verrez mêmes les containers stoppés.\n",
    "\n",
    "*docker images (-a)*\n",
    "\n",
    "    Cette commande vous montre les images que vous avez construites, et le -a vous montre les images intermédiaires.\n",
    "\n",
    "*docker network ls*\n",
    "\n",
    "*docker-compose ps*\n",
    "\n",
    "    La commande docker network ls liste les différents réseaux et docker-compose ps affiche tous les containers qui ont été lancés par docker-compose (qu’ils tournent actuellement ou non).\n",
    "\n",
    "#### Commandes de runtime\n",
    "Vous avez maintenant besoin d’images et de conteneurs pour tester les commandes précédentes.\n",
    "\n",
    "*docker-compose up (-d) (--build)*\n",
    "\n",
    "*docker-compose stop*\n",
    "\n",
    "    La docker-compose est la plus simple car vous n’avez besoin que de 2 commandes : up et stop. stop est assez explicite et stop (mais ne supprime pas) vos conteneurs, mais up nécessite plus d’explications : cela va construire vos images si elles ne le sont pas déjà, et va démarrer vos dockers.\n",
    "\n",
    "    Si vous voulez re-build vos images, utilisez l’option --build (vous pouvez aussi utiliser la commande docker-compose build pour uniquement construire des images). L’option -d, qui signifie \"detach\" fait tourner les conteneurs en tâche de fond.\n",
    "\n",
    "*docker build (-t NAME)  PATH /URL*\n",
    "\n",
    "    Avec Docker, vous avez besoin d’une commande séparée pour construire votre image, où vous pouvez spécifier le nom de votre image et vous devez spécifier le PATH ou URL selon votre contexte (cela peut être un repo git).\n",
    "\n",
    "*docker run (-d) (-p hostPort :containerPort ) (--name NAME ) IMGNAME /IMGID*\n",
    "\n",
    "    run crée le conteneur en utilisant l’image que vous indiquez. Vous pouvez spécifier de nombreux paramètres. Nous vous recommandons d’ajouter un nom à votre conteneur et vous pourriez avoir besoin de spécifier quelques ports à exposer. Comme pour docker-compose, le -d lance le conteneur en tâche de fond.\n",
    "\n",
    "*docker start ID /NAME*\n",
    "\n",
    "*docker stop ID /NAME*\n",
    "\n",
    "    Le start and stop ne devraient pas être trop compliqués à comprendre, mais il faut noter que vous pouvez “start” uniquement des conteneurs qui sont déjà arrêtés, donc déjà build avec la commande run.\n",
    "\n",
    "*docker exec -it NAME /ID “sh” /”/bin/bash”*\n",
    "\n",
    "    Cette commande vous permet de lancer un shell sur votre container. Je préfère utiliser \"/bin/bash\" mais votre conteneur peut ne pas avoir bash d’installé, et seulement “sh” qui est plus courant (surtout sur les alpines). Si vous avez des configurations spéciales dans votre conteneur, vous aurez peut-être besoin d’utiliser des arguments supplémentaires pour vous y connecter. Cette commande peut vous permettre de faire bien plus, je vous recommande donc de lire cette doc pour trouver des informations supplémentaires..\n",
    "\n",
    "#### Commandes de suppression\n",
    "Ces commandes permettent de supprimer vos conteneurs et vos images. Vous en aurez probablement besoin pour libérer de l’espace disque.\n",
    "\n",
    "*docker rm ID /NAME*\n",
    "\n",
    "*docker-compose rm*\n",
    "\n",
    "    Le docker rm supprime seulement un conteneur alors que docker-compose rm supprime tous les conteneurs démarrés avec une commande docker-compose.\n",
    "\n",
    "*docker rmi ID /NAME*\n",
    "\n",
    "    Docker rmi supprime l’image que vous passez en paramètre et récursivement toutes les images intermédiaires utilisées pour la construire.\n",
    "\n",
    "#### Commandes de logs\n",
    "Les commandes suivantes sont utiles quand vous devez débugger certains de vos conteneurs (ou, plus souvent, l'application que vous déployez à l’intérieur).\n",
    "\n",
    "*docker logs ID /NAME (-f --tail NBLINE )*\n",
    "\n",
    "    Cette commande affiche les logs du container passé en paramètre. Si vous utilisez l’option -f --tail NBLINE vous pouvez suivre en live le flux de vos logs (NBLINE est le nombre de lignes que vous souhaitez afficher). Gardez à l’esprit de choisir un nombre de lignes que vous serez capable de gérer, pour ne pas être dépassé par vos logs.\n",
    "\n",
    "*docker-compose logs (ID /NAME )*\n",
    "\n",
    "    L’option (ID /NAME ) avec docker-compose logs vous permet de voir les logs d’un conteneur uniquement, au lieu de voir tous les logs. L’astuce ici est que si vous n’utilisez pas l’option -d quand vous utilisez docker run ou docker-compose up vous verrez vos logs directement (mais vous aurez besoin d’arrêter le conteneur pour quitter la vue). Cela peut toujours être utile pour débugger des applications au démarrage."
   ]
  }
 ],
 "metadata": {
  "kernelspec": {
   "display_name": "Python 3",
   "language": "python",
   "name": "python3"
  },
  "language_info": {
   "codemirror_mode": {
    "name": "ipython",
    "version": 3
   },
   "file_extension": ".py",
   "mimetype": "text/x-python",
   "name": "python",
   "nbconvert_exporter": "python",
   "pygments_lexer": "ipython3",
   "version": "3.11.1"
  },
  "orig_nbformat": 4,
  "vscode": {
   "interpreter": {
    "hash": "525835378542c89f588f2557917bddf935e9d82ce076aebbc37826432d12840d"
   }
  }
 },
 "nbformat": 4,
 "nbformat_minor": 2
}
