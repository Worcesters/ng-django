{
 "cells": [
  {
   "attachments": {},
   "cell_type": "markdown",
   "metadata": {},
   "source": [
    "## Commandes de monitoring\n",
    "Les commandes suivantes sont, à mes yeux, les premières que vous avez besoin de connaître quand vous utilisez Docker."
   ]
  },
  {
   "cell_type": "code",
   "execution_count": null,
   "metadata": {
    "vscode": {
     "languageId": "powershell"
    }
   },
   "outputs": [],
   "source": [
    "docker ps (-a)"
   ]
  },
  {
   "attachments": {},
   "cell_type": "markdown",
   "metadata": {},
   "source": [
    "    docker ps vous affiche toutes les instances de docker qui tournent actuellement sur votre environnement.\n",
    "    Si vous ajoutez l’option -a, alors vous verrez mêmes les containers stoppés.\n"
   ]
  },
  {
   "cell_type": "code",
   "execution_count": null,
   "metadata": {
    "vscode": {
     "languageId": "powershell"
    }
   },
   "outputs": [],
   "source": [
    "docker images (-a)"
   ]
  },
  {
   "attachments": {},
   "cell_type": "markdown",
   "metadata": {},
   "source": [
    "    Cette commande vous montre les images que vous avez construites, et le -a vous montre les images intermédiaires.\n"
   ]
  },
  {
   "cell_type": "code",
   "execution_count": null,
   "metadata": {
    "vscode": {
     "languageId": "powershell"
    }
   },
   "outputs": [],
   "source": [
    "docker network ls\n",
    "docker-compose ps"
   ]
  },
  {
   "attachments": {},
   "cell_type": "markdown",
   "metadata": {},
   "source": [
    "    La commande docker network ls liste les différents réseaux et docker-compose ps affiche tous les containers qui ont été lancés par docker-compose \n",
    "    (qu’ils tournent actuellement ou non).\n",
    "\n",
    "## Commandes de runtime\n",
    "Vous avez maintenant besoin d’images et de conteneurs pour tester les commandes précédentes.\n",
    "\n"
   ]
  },
  {
   "cell_type": "code",
   "execution_count": null,
   "metadata": {
    "vscode": {
     "languageId": "powershell"
    }
   },
   "outputs": [],
   "source": [
    "docker-compose up (-d) (--build)\n",
    "docker-compose stop"
   ]
  },
  {
   "attachments": {},
   "cell_type": "markdown",
   "metadata": {},
   "source": [
    "    La docker-compose est la plus simple car vous n’avez besoin que de 2 commandes : up et stop.\n",
    "    stop est assez explicite et stop (mais ne supprime pas) vos conteneurs, mais up nécessite plus d’explications : \n",
    "    cela va construire vos images si elles ne le sont pas déjà, et va démarrer vos dockers.\n",
    "\n",
    "    Si vous voulez re-build vos images, utilisez l’option --build \n",
    "    (vous pouvez aussi utiliser la commande docker-compose build pour uniquement construire des images). \n",
    "    L’option -d, qui signifie \"detach\" fait tourner les conteneurs en tâche de fond."
   ]
  },
  {
   "cell_type": "code",
   "execution_count": null,
   "metadata": {
    "vscode": {
     "languageId": "powershell"
    }
   },
   "outputs": [],
   "source": [
    "docker-compose down"
   ]
  },
  {
   "attachments": {},
   "cell_type": "markdown",
   "metadata": {},
   "source": [
    "    la commande docker-compose down permet d'arreter, supprimer les containers, networks, volumes, & images créer par le up \n"
   ]
  },
  {
   "cell_type": "code",
   "execution_count": null,
   "metadata": {
    "vscode": {
     "languageId": "powershell"
    }
   },
   "outputs": [],
   "source": [
    "docker build (-t NAME)  PATH /URL"
   ]
  },
  {
   "attachments": {},
   "cell_type": "markdown",
   "metadata": {},
   "source": [
    "    Avec Docker, vous avez besoin d’une commande séparée pour construire votre image, \n",
    "    où vous pouvez spécifier le nom de votre image et vous devez spécifier le PATH ou URL selon votre contexte (cela peut être un repo git)."
   ]
  },
  {
   "cell_type": "code",
   "execution_count": null,
   "metadata": {
    "vscode": {
     "languageId": "powershell"
    }
   },
   "outputs": [],
   "source": [
    "docker run (-d) (-p hostPort :containerPort ) (--name NAME ) IMGNAME /IMGID"
   ]
  },
  {
   "attachments": {},
   "cell_type": "markdown",
   "metadata": {},
   "source": [
    "    run crée le conteneur en utilisant l’image que vous indiquez. Vous pouvez spécifier de nombreux paramètres. \n",
    "    Nous vous recommandons d’ajouter un nom à votre conteneur et vous pourriez avoir besoin de spécifier quelques ports à exposer.\n",
    "    Comme pour docker-compose, le -d lance le conteneur en tâche de fond."
   ]
  },
  {
   "cell_type": "code",
   "execution_count": null,
   "metadata": {
    "vscode": {
     "languageId": "powershell"
    }
   },
   "outputs": [],
   "source": [
    "docker start ID /NAME\n",
    "\n",
    "docker stop ID /NAME"
   ]
  },
  {
   "attachments": {},
   "cell_type": "markdown",
   "metadata": {},
   "source": [
    "    Le start and stop ne devraient pas être trop compliqués à comprendre,\n",
    "    mais il faut noter que vous pouvez “start” uniquement des conteneurs qui sont déjà arrêtés, donc déjà build avec la commande run.\n"
   ]
  },
  {
   "cell_type": "code",
   "execution_count": null,
   "metadata": {
    "vscode": {
     "languageId": "powershell"
    }
   },
   "outputs": [],
   "source": [
    "docker exec -it NAME /ID “sh” /”/bin/bash”"
   ]
  },
  {
   "attachments": {},
   "cell_type": "markdown",
   "metadata": {},
   "source": [
    "    Cette commande vous permet de lancer un shell sur votre container. \n",
    "    Je préfère utiliser \"/bin/bash\" mais votre conteneur peut ne pas avoir bash d’installé, et seulement “sh” qui est plus courant (surtout sur les alpines).\n",
    "    Si vous avez des configurations spéciales dans votre conteneur, vous aurez peut-être besoin d’utiliser des arguments supplémentaires pour vous y connecter.\n",
    "    Cette commande peut vous permettre de faire bien plus, je vous recommande donc de lire cette doc pour trouver des informations supplémentaires..\n",
    "\n",
    "## Commandes de suppression\n",
    "Ces commandes permettent de supprimer vos conteneurs et vos images. Vous en aurez probablement besoin pour libérer de l’espace disque."
   ]
  },
  {
   "cell_type": "code",
   "execution_count": null,
   "metadata": {
    "vscode": {
     "languageId": "powershell"
    }
   },
   "outputs": [],
   "source": [
    "docker rm ID /NAME\n",
    "docker-compose rm"
   ]
  },
  {
   "attachments": {},
   "cell_type": "markdown",
   "metadata": {},
   "source": [
    "\n",
    "    Le docker rm supprime seulement un conteneur alors que docker-compose rm supprime tous les conteneurs démarrés avec une commande docker-compose."
   ]
  },
  {
   "cell_type": "code",
   "execution_count": null,
   "metadata": {
    "vscode": {
     "languageId": "powershell"
    }
   },
   "outputs": [],
   "source": [
    "docker rmi ID /NAME"
   ]
  },
  {
   "attachments": {},
   "cell_type": "markdown",
   "metadata": {},
   "source": [
    "    Docker rmi supprime l’image que vous passez en paramètre et récursivement toutes les images intermédiaires utilisées pour la construire.\n",
    "    \n",
    "## Commandes de logs\n",
    "Les commandes suivantes sont utiles quand vous devez débugger certains de vos conteneurs (ou, plus souvent, l'application que vous déployez à l’intérieur)."
   ]
  },
  {
   "cell_type": "code",
   "execution_count": null,
   "metadata": {
    "vscode": {
     "languageId": "powershell"
    }
   },
   "outputs": [],
   "source": [
    "docker logs ID /NAME (-f --tail NBLINE )"
   ]
  },
  {
   "attachments": {},
   "cell_type": "markdown",
   "metadata": {},
   "source": [
    "    Cette commande affiche les logs du container passé en paramètre. \n",
    "    Si vous utilisez l’option -f --tail NBLINE vous pouvez suivre en live le flux de vos logs (NBLINE est le nombre de lignes que vous souhaitez afficher).\n",
    "    Gardez à l’esprit de choisir un nombre de lignes que vous serez capable de gérer, pour ne pas être dépassé par vos logs.\n"
   ]
  },
  {
   "cell_type": "code",
   "execution_count": null,
   "metadata": {
    "vscode": {
     "languageId": "powershell"
    }
   },
   "outputs": [],
   "source": [
    "docker-compose logs (ID /NAME )"
   ]
  },
  {
   "attachments": {},
   "cell_type": "markdown",
   "metadata": {},
   "source": [
    "    L’option (ID /NAME ) avec docker-compose logs vous permet de voir les logs d’un conteneur uniquement, au lieu de voir tous les logs.\n",
    "    L’astuce ici est que si vous n’utilisez pas l’option -d quand vous utilisez docker run ou docker-compose up vous verrez vos logs directement \n",
    "    (mais vous aurez besoin d’arrêter le conteneur pour quitter la vue). \n",
    "    Cela peut toujours être utile pour débugger des applications au démarrage."
   ]
  },
  {
   "attachments": {},
   "cell_type": "markdown",
   "metadata": {},
   "source": [
    "### Installation Docker Desktop on Windows\n",
    "\n",
    "#### Install interactively\n",
    "\n",
    "- Double-click Docker Desktop Installer.exe pour lancer l'installeur.\n",
    "\n",
    "Si vous n'avez pas déjà téléchargez l'installeur *(Docker Desktop Installer.exe)*, vous pouvez l'obtenir sur le lien suivant de **Docker Hub**:<br>\n",
    "https://hub.docker.com/editions/community/docker-ce-desktop-windows/ \n",
    "\n",
    "- Assurez-vous que l'option sélectionnée est **WSL 2** et non d'Hyper-V sur la page Configuration du backend.\n",
    "\n",
    "Si votre système ne prend en charge qu'une seule des deux options, vous ne pourrez pas sélectionner le backend à utiliser.\n",
    "\n",
    "- Suivez les instructions de l'assistant d'installation pour autoriser le programme d'installation et procéder à l'installation.\n",
    "\n",
    "- Une fois l'installation réussie, cliquez sur Fermer pour terminer le processus d'installation.\n",
    "\n",
    "- Si votre compte admin est différent de votre compte utilisateur, vous devez ajouter l'utilisateur au groupe docker-users.<br>\n",
    "Exécutez Computer Management en tant qu'administrateur et accédez à Utilisateurs et groupes locaux > Groupes > docker-users.<br>\n",
    "Cliquez avec le bouton droit pour ajouter l'utilisateur au groupe. <br>\n",
    "Déconnectez-vous et reconnectez-vous pour que les modifications prennent effet.\n"
   ]
  },
  {
   "attachments": {},
   "cell_type": "markdown",
   "metadata": {},
   "source": [
    "## Install from the command line\n",
    "After downloading Docker Desktop Installer.exe, run the following command in a terminal to install Docker Desktop:"
   ]
  },
  {
   "cell_type": "code",
   "execution_count": null,
   "metadata": {
    "vscode": {
     "languageId": "powershell"
    }
   },
   "outputs": [],
   "source": [
    "\"Docker Desktop Installer.exe\" install"
   ]
  },
  {
   "attachments": {},
   "cell_type": "markdown",
   "metadata": {},
   "source": [
    "si vous utilisez un PowerShell vous devrez le lancer avec:"
   ]
  },
  {
   "cell_type": "code",
   "execution_count": null,
   "metadata": {
    "vscode": {
     "languageId": "powershell"
    }
   },
   "outputs": [],
   "source": [
    "Start-Process 'Docker Desktop Installer.exe' -Wait install"
   ]
  },
  {
   "attachments": {},
   "cell_type": "markdown",
   "metadata": {},
   "source": [
    "If using the Windows Command Prompt:"
   ]
  },
  {
   "cell_type": "code",
   "execution_count": null,
   "metadata": {
    "vscode": {
     "languageId": "powershell"
    }
   },
   "outputs": [],
   "source": [
    "start /w \"\" \"Docker Desktop Installer.exe\" install"
   ]
  },
  {
   "attachments": {},
   "cell_type": "markdown",
   "metadata": {},
   "source": [
    "The install command accepts the following flags:\n",
    "\n",
    "- --quiet: suppresses information output when running the installer\n",
    "\n",
    "- --accept-license: accepts the Docker Subscription Service Agreement now, rather than requiring it to be accepted when the application is first run\n",
    "\n",
    "- --no-windows-containers: disables Windows containers integration\n",
    "\n",
    "- --allowed-org=<org name>: requires the user to sign in and be part of the specified Docker Hub organization when running the application\n",
    "\n",
    "- --backend=<backend name>: selects the default backend to use for Docker Desktop, hyper-v, windows or wsl-2 (default)\n",
    "\n",
    "- --installation-dir=<path>: changes the default installation location (C:\\Program Files\\Docker\\Docker)\n",
    "\n",
    "- --admin-settings: Automatically creates an admin-settings.json file which is used by admins to control certain Docker Desktop settings on client machines within their organization. For more information, see Settings Management.\n",
    "\n",
    "It must be used together with the --allowed-org=<org name> flag.<br>\n",
    "For example: --allowed-org=<org name> --admin-settings='{\"configurationFileVersion\": 2, \"enhancedContainerIsolation\": {\"value\": true, \"locked\": false}}'\n",
    "\n",
    "If your admin account is different to your user account, you must add the user to the docker-users group:\n",
    "\n",
    " net localgroup docker-users <user> /add"
   ]
  },
  {
   "attachments": {},
   "cell_type": "markdown",
   "metadata": {},
   "source": [
    "## Start Docker Desktop\n",
    "\n",
    "Docker Desktop does not start automatically after installation. To start Docker Desktop:\n",
    "\n",
    "Search for Docker, and select Docker Desktop in the search results.\n",
    "\n",
    "Search for Docker app\n",
    "\n",
    "The Docker menu (whale menu) displays the Docker Subscription Service Agreement window.\n",
    "\n",
    "Here’s a summary of the key points:\n",
    "\n",
    "Docker Desktop is free for small businesses (fewer than 250 employees AND less than $10 million in annual revenue), personal use, education, and non-commercial open source projects.<br>\n",
    "Otherwise, it requires a paid subscription for professional use.<br>\n",
    "Paid subscriptions are also required for government entities.<br>\n",
    "The Docker Pro, Team, and Business subscriptions include commercial use of Docker Desktop.<br>\n",
    "Select Accept to continue. Docker Desktop starts after you accept the terms.<br>\n",
    "\n",
    "**Important**\n",
    "\n",
    "If you do not agree to the terms, the Docker Desktop application will close and you can no longer run Docker Desktop on your machine.<br>\n",
    "You can choose to accept the terms at a later date by opening Docker Desktop."
   ]
  }
 ],
 "metadata": {
  "kernelspec": {
   "display_name": "Python 3",
   "language": "python",
   "name": "python3"
  },
  "language_info": {
   "codemirror_mode": {
    "name": "ipython",
    "version": 3
   },
   "file_extension": ".py",
   "mimetype": "text/x-python",
   "name": "python",
   "nbconvert_exporter": "python",
   "pygments_lexer": "ipython3",
   "version": "3.11.1 (tags/v3.11.1:a7a450f, Dec  6 2022, 19:58:39) [MSC v.1934 64 bit (AMD64)]"
  },
  "orig_nbformat": 4,
  "vscode": {
   "interpreter": {
    "hash": "525835378542c89f588f2557917bddf935e9d82ce076aebbc37826432d12840d"
   }
  }
 },
 "nbformat": 4,
 "nbformat_minor": 2
}
