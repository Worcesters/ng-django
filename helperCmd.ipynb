{
 "cells": [
  {
   "attachments": {},
   "cell_type": "markdown",
   "metadata": {},
   "source": [
    "    Exemple avec jdidier.dev comme nouveau pointer\n",
    "    \n",
    "Modification du Host windows pour faire pointer 127.0.0.1/Localhost -> jdidier.dev\n",
    "\n",
    "    c:\\Windows\\System32\\drivers\\etc\\hosts"
   ]
  },
  {
   "cell_type": "code",
   "execution_count": null,
   "metadata": {
    "vscode": {
     "languageId": "latex"
    }
   },
   "outputs": [],
   "source": [
    "127.0.0.1   jdidier.dev"
   ]
  },
  {
   "attachments": {},
   "cell_type": "markdown",
   "metadata": {},
   "source": [
    "Pour tester si votre nom de domaine jdidier.dev est correctement configuré dans le fichier hosts de votre système Windows, vous pouvez effectuer les étapes suivantes :\n",
    "\n",
    "- Ouvrez l'invite de commandes en tant qu'administrateur en cliquant avec le bouton droit de la souris sur l'icône de l'invite de commandes et en sélectionnant \"Exécuter en tant qu'administrateur\".\n",
    "    \n",
    "- Dans l'invite de commandes, tapez la commande suivante et appuyez sur Entrée :"
   ]
  },
  {
   "cell_type": "code",
   "execution_count": null,
   "metadata": {
    "vscode": {
     "languageId": "powershell"
    }
   },
   "outputs": [],
   "source": [
    "C:\\Users\\jdidier\\Documents\\ng-django> ping jdidier.dev"
   ]
  },
  {
   "attachments": {},
   "cell_type": "markdown",
   "metadata": {},
   "source": [
    "- Si votre fichier hosts est correctement configuré, vous devriez voir une réponse du type \"Réponse de 127.0.0.1 : octets=32 temps<1ms TTL=128\" affichée dans l'invite de commandes.\n",
    "\n",
    "Si vous obtenez une réponse du type \"Délai d'attente de la demande dépassé\" ou \"Impossible de trouver l'hôte jdidier.dev\", cela signifie que votre fichier hosts n'est pas correctement configuré et que vous devez vérifier les étapes précédentes pour vous assurer que vous avez ajouté l'entrée correctement."
   ]
  },
  {
   "attachments": {},
   "cell_type": "markdown",
   "metadata": {},
   "source": [
    "# rechercher un fichier"
   ]
  },
  {
   "cell_type": "code",
   "execution_count": null,
   "metadata": {
    "vscode": {
     "languageId": "powershell"
    }
   },
   "outputs": [],
   "source": [
    "C:\\Users\\jdidier\\Documents\\ng-django> ls -l 'nom fichier'"
   ]
  },
  {
   "attachments": {},
   "cell_type": "markdown",
   "metadata": {},
   "source": [
    "# liste des dossiers"
   ]
  },
  {
   "cell_type": "code",
   "execution_count": null,
   "metadata": {
    "vscode": {
     "languageId": "powershell"
    }
   },
   "outputs": [],
   "source": [
    "C:\\Users\\jdidier\\Documents\\ng-django> dir"
   ]
  },
  {
   "cell_type": "code",
   "execution_count": null,
   "metadata": {
    "vscode": {
     "languageId": "powershell"
    }
   },
   "outputs": [],
   "source": [
    "C:\\Users\\jdidier\\Documents\\ng-django> ls"
   ]
  },
  {
   "attachments": {},
   "cell_type": "markdown",
   "metadata": {},
   "source": [
    "# Executer un fichier exemple ouvrir le dossier dans vscode"
   ]
  },
  {
   "cell_type": "code",
   "execution_count": null,
   "metadata": {
    "vscode": {
     "languageId": "powershell"
    }
   },
   "outputs": [],
   "source": [
    "C:\\Users\\jdidier\\Documents\\ng-django> code ."
   ]
  }
 ],
 "metadata": {
  "language_info": {
   "name": "python"
  },
  "orig_nbformat": 4
 },
 "nbformat": 4,
 "nbformat_minor": 2
}
